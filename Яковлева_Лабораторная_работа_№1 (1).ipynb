{
  "nbformat": 4,
  "nbformat_minor": 0,
  "metadata": {
    "colab": {
      "name": "Яковлева. Лабораторная работа №1",
      "provenance": [],
      "collapsed_sections": []
    },
    "kernelspec": {
      "display_name": "Python 3",
      "name": "python3"
    }
  },
  "cells": [
    {
      "cell_type": "markdown",
      "metadata": {
        "id": "QXIszfUJIPN2"
      },
      "source": [
        "1.2. Посчитайте размер матрицы Z в байтах и выведите его на печать. Чтобы узнать\r\n",
        "размер (в байтах) 1 элемента матрицы используйте\r\n",
        "атрибут https://docs.scipy.org/doc/numpy1.15.1/reference/generated/numpy.ndarray.itemsize.html\r\n",
        "Примечание. В этой задаче не нужно ничего считывать - матрица Z уже заполнена.\r\n",
        "Sample Input 1:\r\n",
        "np.zeros((10,10))\r\n",
        "Sample Output 1:\r\n",
        "800\r\n",
        "Sample Input 2:\r\n",
        "np.array([1,2,3], dtype=np.float64)\r\n",
        "Sample Output 2:\r\n",
        "24"
      ]
    },
    {
      "cell_type": "code",
      "metadata": {
        "id": "j_zhUC2pH2O3"
      },
      "source": [
        "import timeit\n",
        "import numpy as np\n",
        "\n",
        "\n",
        "def python(byte):\n",
        "    Z = byte\n",
        "    len(Z)*8\n",
        "\n",
        "\n",
        "def mat(byte):\n",
        "    Z = np.array(byte)\n",
        "    Z.itemsize*Z.size\n",
        "\n",
        "if __name__ == '__main__':\n",
        "    start_time = timeit.default_timer()\n",
        "    python([1, 3, 6, 7, 8])\n",
        "    range_time_1 = timeit.default_timer() - start_time\n",
        "    start_time = timeit.default_timer()\n",
        "    mat([1, 3, 6, 7, 8])\n",
        "    arange_time_1 = timeit.default_timer() - start_time\n",
        "\n",
        "    start_time = timeit.default_timer()\n",
        "    python(np.zeros((10, 10)))\n",
        "    range_time_2 = timeit.default_timer() - start_time\n",
        "\n",
        "    start_time = timeit.default_timer()\n",
        "    mat(np.zeros((10, 10)))\n",
        "    arange_time_2 = timeit.default_timer() - start_time\n"
      ],
      "execution_count": 17,
      "outputs": []
    },
    {
      "cell_type": "code",
      "metadata": {
        "id": "2S2VVmFlfSIO"
      },
      "source": [
        "print('Array [1, 3, 6, 7, 8]')\n",
        "print(f'size of array [1, 3, 6, 7, 8]: range() время {range_time_1}')\n",
        "print(f'size of array [1, 3, 6, 7, 8] arange() время {arange_time_1}')\n",
        " \n",
        "print('Array 10×10')\n",
        "print(f'size of array 10×10: range() время {range_time_2}')\n",
        "print(f'size of array 10×10: arange() время {arange_time_2}')\n"
      ],
      "execution_count": null,
      "outputs": []
    },
    {
      "cell_type": "code",
      "metadata": {
        "id": "ONqA900kRUBD"
      },
      "source": [
        "Z=np.zeros((10,10))\n",
        "Z.itemsize*Z.size"
      ],
      "execution_count": null,
      "outputs": []
    },
    {
      "cell_type": "code",
      "metadata": {
        "id": "SkuupTQzAv3A"
      },
      "source": [
        "Z=np.array([1,2,3], dtype=np.float64)\n",
        "Z.itemsize*Z.size"
      ],
      "execution_count": null,
      "outputs": []
    }
  ]
}