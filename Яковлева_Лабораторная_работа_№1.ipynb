{
  "nbformat": 4,
  "nbformat_minor": 0,
  "metadata": {
    "colab": {
      "name": "Яковлева. Лабораторная работа №1",
      "provenance": [],
      "collapsed_sections": [],
      "authorship_tag": "ABX9TyOwZKMVNqVxY4WrWawXdune",
      "include_colab_link": true
    },
    "kernelspec": {
      "display_name": "Python 3",
      "name": "python3"
    }
  },
  "cells": [
    {
      "cell_type": "markdown",
      "metadata": {
        "id": "view-in-github",
        "colab_type": "text"
      },
      "source": [
        "<a href=\"https://colab.research.google.com/github/Bragmotik/practice/blob/main/%D0%AF%D0%BA%D0%BE%D0%B2%D0%BB%D0%B5%D0%B2%D0%B0_%D0%9B%D0%B0%D0%B1%D0%BE%D1%80%D0%B0%D1%82%D0%BE%D1%80%D0%BD%D0%B0%D1%8F_%D1%80%D0%B0%D0%B1%D0%BE%D1%82%D0%B0_%E2%84%961.ipynb\" target=\"_parent\"><img src=\"https://colab.research.google.com/assets/colab-badge.svg\" alt=\"Open In Colab\"/></a>"
      ]
    },
    {
      "cell_type": "markdown",
      "metadata": {
        "id": "QXIszfUJIPN2"
      },
      "source": [
        "1.2. Посчитайте размер матрицы Z в байтах и выведите его на печать. Чтобы узнать\r\n",
        "размер (в байтах) 1 элемента матрицы используйте\r\n",
        "атрибут https://docs.scipy.org/doc/numpy1.15.1/reference/generated/numpy.ndarray.itemsize.html\r\n",
        "Примечание. В этой задаче не нужно ничего считывать - матрица Z уже заполнена.\r\n",
        "Sample Input 1:\r\n",
        "np.zeros((10,10))\r\n",
        "Sample Output 1:\r\n",
        "800\r\n",
        "Sample Input 2:\r\n",
        "np.array([1,2,3], dtype=np.float64)\r\n",
        "Sample Output 2:\r\n",
        "24"
      ]
    },
    {
      "cell_type": "code",
      "metadata": {
        "id": "j_zhUC2pH2O3"
      },
      "source": [
        "import timeit\n",
        "import numpy as np\n",
        " \n",
        "def python(byte):\n",
        "    Z = byte\n",
        "    len(Z)*8\n",
        " \n",
        "def mat(byte):\n",
        "    Z = np.array(byte)\n",
        "    Z.itemsize*Z.size\n",
        " \n",
        "if __name__ == '__main__':\n",
        "    start_time = timeit.default_timer();\n",
        "    python([1, 3, 6, 7, 8])\n",
        "    range_time_1 = timeit.default_timer()- start_time\n",
        "  \n",
        "    start_time = timeit.default_timer();\n",
        "    mat([1, 3, 6, 7, 8])\n",
        "    arange_time_1 = timeit.default_timer()- start_time\n",
        " \n",
        "    start_time = timeit.default_timer();\n",
        "    python(np.zeros((10,10)))\n",
        "    range_time_2 = timeit.default_timer()- start_time\n",
        "  \n",
        "    start_time = timeit.default_timer();\n",
        "    mat(np.zeros((10, 10)))\n",
        "    arange_time_2 = timeit.default_timer()- start_time"
      ],
      "execution_count": null,
      "outputs": []
    },
    {
      "cell_type": "code",
      "metadata": {
        "id": "2S2VVmFlfSIO"
      },
      "source": [
        "print('Array [1, 3, 6, 7, 8]')\n",
        "print(f'size of array [1, 3, 6, 7, 8]: range() время {range_time_1}')\n",
        "print(f'size of array  [1, 3шшш, 6, 7, 8] arange() время {arange_time_1}')\n",
        " \n",
        "print('Array 10×10')\n",
        "print(f'size of array 10×10: range() время {range_time_2}')\n",
        "print(f'size of array 10×10: arange() время {arange_time_2}')"
      ],
      "execution_count": null,
      "outputs": []
    },
    {
      "cell_type": "code",
      "metadata": {
        "id": "SkuupTQzAv3A"
      },
      "source": [
        "Z=np.array([1,2,3], dtype=np.float64)\n",
        "Z.itemsize*Z.size"
      ],
      "execution_count": null,
      "outputs": []
    },
    {
      "cell_type": "code",
      "metadata": {
        "id": "ONqA900kRUBD"
      },
      "source": [
        "Z=np.zeros((10,10))\n",
        "Z.itemsize*Z.size"
      ],
      "execution_count": null,
      "outputs": []
    }
  ]
}