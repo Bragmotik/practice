{
  "nbformat": 4,
  "nbformat_minor": 0,
  "metadata": {
    "colab": {
      "name": "практика 2",
      "provenance": [],
      "collapsed_sections": [
        "D8gm82avgufr",
        "QKmAYcWGgjZu",
        "kUdodRAlg0I8",
        "MTk-Pd_XjJeV",
        "LpeWCIbI7EMV",
        "LcMxpvIa7cjp",
        "dVoqmARtGgme",
        "s-5yvc-eImla",
        "Ag86-EtcS6rx",
        "B9AvgVXIumrB",
        "B0DKHfatWcJ4",
        "6ZnIUX29ZDZV",
        "iRu1wt_JyVxl"
      ]
    },
    "kernelspec": {
      "name": "python3",
      "display_name": "Python 3"
    }
  },
  "cells": [
    {
      "cell_type": "markdown",
      "metadata": {
        "id": "D8gm82avgufr"
      },
      "source": [
        "# Практика в классе"
      ]
    },
    {
      "cell_type": "code",
      "metadata": {
        "id": "Z4IWcF_ySkgK",
        "outputId": "6e0cb7bf-d131-4dfa-f8aa-410af1bb620f",
        "colab": {
          "base_uri": "https://localhost:8080/",
          "height": 238
        }
      },
      "source": [
        "class SpaceShip:\n",
        "  def __init__(self):\n",
        "    self.hp = 100\n",
        "    self.speed = 13000\n",
        "    self.crew = 64\n",
        "    self.power_reserve = 56000\n",
        "  def __str__(self):\n",
        "    return \"SpaceShip: {} ; {} ; {} ;{}\".format(self.hp, self.speed, self.crew, self.power_reserve)\n",
        "  def draw(self):\n",
        "    print('+-|--------|-+')\n",
        "    print('+     ПП     +')\n",
        "    print('+     ПП     +')\n",
        "    print('+--П------П--+')\n",
        "class StarDestroyer(SpaceShip):\n",
        "  def __init__(self):\n",
        "    super().__init__()\n",
        "    self.shields = 100\n",
        "    self.shields_enabled = False\n",
        "    self.weapons = [100]*15\n",
        "  def __str__(self):\n",
        "    return \"StarDestroyer: {}; {}\".format(self.shields, self.weapons)\n",
        "  def shields_on(self):\n",
        "    self.shields_enabled = True\n",
        "  def shields_off(self):\n",
        "    self.shields_enabled = False\n",
        "  def hit(self):\n",
        "    if self.shields_enabled:\n",
        "      self.shields -= 10\n",
        "    else:\n",
        "      self.hp -=10\n",
        "  def draw(self):\n",
        "    print(\"       /\\       \")\n",
        "    print(\"      /  \\      \")\n",
        "    print(\"     /    \\     \")\n",
        "    print(\"    / |  | \\    \")\n",
        "    print(\"   /        \\   \")\n",
        "    print(\"  /  +----+  \\  \")\n",
        "    print(\" /            \\ \")\n",
        "    print(\"+--------------+\")\n",
        "    print(\"    |_|  |_|    \")\n",
        "ship=SpaceShip()\n",
        "ship.draw()\n",
        "destroyer=StarDestroyer()\n",
        "destroyer.draw()\n"
      ],
      "execution_count": null,
      "outputs": [
        {
          "output_type": "stream",
          "text": [
            "+-|--------|-+\n",
            "+     ПП     +\n",
            "+     ПП     +\n",
            "+--П------П--+\n",
            "       /\\       \n",
            "      /  \\      \n",
            "     /    \\     \n",
            "    / |  | \\    \n",
            "   /        \\   \n",
            "  /  +----+  \\  \n",
            " /            \\ \n",
            "+--------------+\n",
            "    |_|  |_|    \n"
          ],
          "name": "stdout"
        }
      ]
    },
    {
      "cell_type": "markdown",
      "metadata": {
        "id": "QKmAYcWGgjZu"
      },
      "source": [
        "# Задание 1\n",
        "\n",
        "---\n",
        "\n"
      ]
    },
    {
      "cell_type": "code",
      "metadata": {
        "id": "VkCNwgFwe8FR"
      },
      "source": [
        "class First:\n",
        "    color = \"red\"\n",
        "    def out(self):\n",
        "      print(self.color + \"!\")\n",
        "obj1=First()\n",
        "obj2=First()\n",
        "print(obj1.color)\n",
        "print(obj2.color)\n",
        "obj1.out()\n",
        "obj2.out()\n"
      ],
      "execution_count": null,
      "outputs": []
    },
    {
      "cell_type": "markdown",
      "metadata": {
        "id": "kUdodRAlg0I8"
      },
      "source": [
        "# Задание 2"
      ]
    },
    {
      "cell_type": "code",
      "metadata": {
        "id": "pDGcG0bZgzwg"
      },
      "source": [
        "class Second:\n",
        "  color = \"red\"\n",
        "  form = \"circle\"\n",
        "  def changecolor(self,newcolor):\n",
        "    self.color = newcolor\n",
        "  def changeform(self,newform):\n",
        "    self.form = newform\n",
        "obj1=Second()\n",
        "obj2=Second()\n",
        "print(obj1.color, obj1.form)\n",
        "print(obj2.color, obj2.form)\n",
        "obj1.changecolor(\"green\")\n",
        "obj2.changecolor(\"blue\")\n",
        "obj1.changeform(\"oval\")\n",
        "print(obj1.color, obj1.form)\n",
        "print(obj2.color, obj2.form)"
      ],
      "execution_count": null,
      "outputs": []
    },
    {
      "cell_type": "markdown",
      "metadata": {
        "id": "MTk-Pd_XjJeV"
      },
      "source": [
        "# Практическая работа. задание 1"
      ]
    },
    {
      "cell_type": "code",
      "metadata": {
        "id": "_yI8lxJxjJKI"
      },
      "source": [
        "class Second:\n",
        "  color = \"red\"\n",
        "  form = \"circle\"\n",
        "  weight = 23\n",
        "  def changecolor(self,newcolor):\n",
        "    self.color = newcolor\n",
        "  def changeform(self,newform):\n",
        "    self.form = newform\n",
        "  def changeweight(self,newweight):          #добавляю ещё одно свойство для класса и метод для его изменения\n",
        "    self.weight = newweight\n",
        "obj1=Second()\n",
        "obj2=Second()\n",
        "obj3=Second()                                #создаю третий объект\n",
        "print(obj1.color, obj1.form)\n",
        "print(obj2.color, obj2.form)\n",
        "print(obj3.color, obj3.form)\n",
        "obj1.changecolor(\"green\")\n",
        "obj2.changecolor(\"blue\")\n",
        "obj1.changeform(\"oval\")\n",
        "obj3.changecolor(\"purple\")                    # изменяю все свойства третьего объекта\n",
        "obj3.changeform(\"cube\")                       #в том числе и новое свойство weight\n",
        "obj3.changeweight(\"44\")                       \n",
        "print(obj1.color, obj1.form)                  #Вывожу результаты на экран\n",
        "print(obj2.color, obj2.form)\n",
        "print(obj3.color, obj3.form, obj3.weight)"
      ],
      "execution_count": null,
      "outputs": []
    },
    {
      "cell_type": "markdown",
      "metadata": {
        "id": "LpeWCIbI7EMV"
      },
      "source": [
        "# Практическая работа. задание 2"
      ]
    },
    {
      "cell_type": "code",
      "metadata": {
        "id": "5p89in3Gj6ff"
      },
      "source": [
        "#класс продавец торгует хлебобул.изд. -- ватрушками. класс покупатель хочет купить другой продукт  #создаю два класса \"продавец\" и \"покупатель\"\n",
        "class Seller:\n",
        "  function=\"предлагает \"                            #расписываю свойства: function--функция, работа, которую выполняет продавец\n",
        "  industry= \"хлебобулочные изделия\"                 #industry--сфера работы\n",
        "  product=\"ватрушки\"                                #product--продукт, которым торгует продавец\n",
        "  def changeproduct(self, newproduct):              #создаю метод для изменения вида продукта(хлебобулочного изделия)\n",
        "    self.product=newproduct\n",
        "  def changefunction(self, newfunction):            #создаю метод для изменения действия продавца(функции, работы)\n",
        "    self.function=newfunction\n",
        "\n",
        "class Buyer:                                        \n",
        "  function=\"хочет купить\"                           #создаю свойство--функция/действие\n",
        "  product=\"маковые подковки\"                        #создаю свойство--товар, который купит покупатель\n",
        "\n",
        "seller1=Seller()                                    #создаю два объекта: условного покупателя и продавца\n",
        "buyer2=Buyer()\n",
        "\n",
        "print(\"Булочик\", Seller.function, seller1.product)  #в задании сказано: \"...один объект с помощью метод своего класса \n",
        "seller1.changeproduct(buyer2.product)               #должен обрабатывать данные другого объекта\"\n",
        "print(\"Клиент \", Buyer.function, seller1.product)   #так у меня продавец с помощью метода \"изменение товара\" обрабатывает \n",
        "seller1.changefunction(\"продаёт\")                   #желания покупателя и продает вместо ватрушек маковые подковки (см. последнюю строчку print)\n",
        "print(\"Булочник \", seller1.function, seller1.product)  \n"
      ],
      "execution_count": null,
      "outputs": []
    },
    {
      "cell_type": "markdown",
      "metadata": {
        "id": "LcMxpvIa7cjp"
      },
      "source": [
        "# Задание 3"
      ]
    },
    {
      "cell_type": "code",
      "metadata": {
        "id": "WpWvVmye7Nq3"
      },
      "source": [
        "class YesInit:\n",
        "  def __init__(self, one,two):\n",
        "    self.fname = one\n",
        "    self.sname = two\n",
        "obj1 = YesInit(\"Peter\",\"Ok\")\n",
        "print(obj1.fname, obj1.sname)\n",
        "\n",
        "class NoInit:\n",
        "  def names(self, one, two):\n",
        "    self.fname = one\n",
        "    self.sname = two\n",
        "obj1 = NoInit()\n",
        "obj1.names(\"Peter\", \"Ok\")\n",
        "print(obj1.fname, obj1.sname)"
      ],
      "execution_count": null,
      "outputs": []
    },
    {
      "cell_type": "markdown",
      "metadata": {
        "id": "dVoqmARtGgme"
      },
      "source": [
        "# Задание 4"
      ]
    },
    {
      "cell_type": "code",
      "metadata": {
        "id": "9fgfhdUOGgLS"
      },
      "source": [
        "class YesInit:\n",
        "  def __init__(self, one=\"noname\", two=\"nonametoo\"):\n",
        "    self.fname = one\n",
        "    self.sname = two\n",
        "obj1 = YesInit(\"Sasha\", \"Yu\")\n",
        "obj2 = YesInit()\n",
        "obj3 = YesInit(\"Spartak\")\n",
        "obj4 = YesInit(two=\"Harry\")\n",
        "print(obj1.fname, obj1.sname)\n",
        "print(obj2.fname, obj2.sname)\n",
        "print(obj3.fname, obj3.sname)\n",
        "print(obj4.fname, obj4.sname)\n"
      ],
      "execution_count": null,
      "outputs": []
    },
    {
      "cell_type": "markdown",
      "metadata": {
        "id": "s-5yvc-eImla"
      },
      "source": [
        "# Задание 5"
      ]
    },
    {
      "cell_type": "code",
      "metadata": {
        "id": "Tst1W_ceIl1e",
        "outputId": "bfe30d3d-75ac-4efd-ea96-1302f3f1ac39",
        "colab": {
          "base_uri": "https://localhost:8080/",
          "height": 51
        }
      },
      "source": [
        "class fruits:\n",
        "  def __init__(self,  w, n=0):\n",
        "    self.what = w\n",
        "    self.numbers = n\n",
        "f1 = fruits(\"apple\", 150)\n",
        "f2 = fruits(\"pineapple\")\n",
        "print(f1.what, f1.numbers)\n",
        "print(f2.what, f2.numbers)\n"
      ],
      "execution_count": null,
      "outputs": [
        {
          "output_type": "stream",
          "text": [
            "apple 150\n",
            "pineapple 0\n"
          ],
          "name": "stdout"
        }
      ]
    },
    {
      "cell_type": "markdown",
      "metadata": {
        "id": "Ag86-EtcS6rx"
      },
      "source": [
        "# Задание 6"
      ]
    },
    {
      "cell_type": "code",
      "metadata": {
        "id": "nxcP0H5iS6Tz"
      },
      "source": [
        "class Building:\n",
        "  def __init__(self, w,c, n=0):\n",
        "    self.what = w\n",
        "    self.color = c\n",
        "    self.numbers = n\n",
        "    self.mwhere(n)\n",
        "  def mwhere(self, n):\n",
        "    if n<=0:\n",
        "      self.where = \"отсутствуют\"\n",
        "    elif 0 < n < 100:\n",
        "      self.where = \"малый склад\"\n",
        "    else:\n",
        "      self.where = \"основной склад\"\n",
        "  def plus(self, p):\n",
        "    self.numbers = self.numbers + p\n",
        "    self.mwhere(self.numbers)\n",
        "  def minus(self, m):\n",
        "    self.numbers = self.numbers - p\n",
        "    self.mwhere(self.numbers)\n",
        "m1 = Building(\"доски\", \"белые\", 50)\n",
        "m2 = Building(\"доски\", \"коричневые\", 300)\n",
        "m3 = Building(\"кирпичи\", \"белые\")\n",
        "print(m1.what, m1.color, m1.where)\n",
        "print(m2.what, m2.color, m2.where)\n",
        "print(m3.what, m3.color, m3.where)\n",
        "\n",
        "m1.plus(500)\n",
        "print(m1.numbers, m1.where)"
      ],
      "execution_count": null,
      "outputs": []
    },
    {
      "cell_type": "markdown",
      "metadata": {
        "id": "B9AvgVXIumrB"
      },
      "source": [
        "# Практическая работа"
      ]
    },
    {
      "cell_type": "code",
      "metadata": {
        "id": "ehyL5PEQunCJ"
      },
      "source": [
        "class Students:                                     #создаю класс Студенты\n",
        "  def __init__(self, name, exam):                   #в конструктор имеются атрибты \"имя\" и \"баллы\"\n",
        "    self.name=name\n",
        "    self.exam=exam\n",
        "  def addmission(self):                              #создаю метод, определяющий,может ли поступить \n",
        "    if self.exam>261:                                #студент в вуз в зависимости от своих баллов\n",
        "      print(self.name, \"сможет поступить в вуз со своими \", self.exam, \"баллами.\\nУдачи! у Вас всё получится\\n\")\n",
        "    else:\n",
        "      print(self.name, \"не сможет поступить c\", self.exam, \"баллами =(\\nПусть выберет другой вуз\\n\")\n",
        "\n",
        "student1=Students(\"Sasha\", 3)\n",
        "student1.addmission()\n",
        "student2=Students(\"Bobby\", 298)\n",
        "student2.addmission()\n",
        "student3=Students(\"Kate\", 188)\n",
        "student3.addmission()\n",
        "\n"
      ],
      "execution_count": null,
      "outputs": []
    },
    {
      "cell_type": "markdown",
      "metadata": {
        "id": "B0DKHfatWcJ4"
      },
      "source": [
        "# Задание 7"
      ]
    },
    {
      "cell_type": "code",
      "metadata": {
        "id": "howLaPLIWc2k"
      },
      "source": [
        "class Things:\n",
        "  color=\"green\"                      #для того, чтобы не выводилась ошибка, артибут-цвет вписываем \n",
        "  def __init__(self, n, t):          #в целый класс, а не присваиваем к определенному объекту\n",
        "    self.namething=n\n",
        "    self.total=t\n",
        "th1=Things(\"table\", 5)\n",
        "th2=Things(\"computer\", 7)\n",
        "print(th1.namething, th1.total)\n",
        "print(th2.namething, th2.total)\n",
        "print(th1.color)\n",
        "print(th2.color)\n",
        "\n"
      ],
      "execution_count": null,
      "outputs": []
    },
    {
      "cell_type": "markdown",
      "metadata": {
        "id": "6ZnIUX29ZDZV"
      },
      "source": [
        "# Задание 8"
      ]
    },
    {
      "cell_type": "code",
      "metadata": {
        "id": "L6zMSPEEZDux",
        "outputId": "075e72ee-a5de-4f3e-804b-27da6ec8249e",
        "colab": {
          "base_uri": "https://localhost:8080/"
        }
      },
      "source": [
        "class Table:\n",
        "  def __init__(self, l,w,h):\n",
        "    self.long=l\n",
        "    self.width=w\n",
        "    self.height=h\n",
        "  def outing(self):\n",
        "    print(self.long, self.width, self.height)\n",
        "\n",
        "class Kitchen(Table):\n",
        "  def howplaces(self,n):\n",
        "    if n<2:\n",
        "      print(\"It is not kitchen table\")\n",
        "    else:\n",
        "      self.places=n\n",
        "  def outplaces(self):\n",
        "    print(self.places)\n",
        "\n",
        "class Lounge(Table): #Создаем дополнительный подкласс для класса Table\n",
        "  size=\"маленький\"\n",
        "  def function(self, c):  #метод для того, чтобы определить, чем украсить объект\n",
        "    self.material=c       #будет зависеть от материала, из которого изготовлен объект\n",
        "    if self.material==\"дерево\":\n",
        "      print(\"Украсить стол вазой\")\n",
        "    elif self.material==\"стекло\":\n",
        "      print(\"Положить на стол журналы\")          #в зависимости от материала будет выводить то, чем нужно будет украсить\n",
        "    else:\n",
        "      print(\"Поставить на стол корзинку с фруктами\") \n",
        "  def change_color(self, view, color):  #метод для изменения цвета в зависимости от старости мебели\n",
        "    self.view=view                      \n",
        "    self.newcolor=color\n",
        "    if self.view==\"старый\" or \"потрепанный\":     #определяет вид мебели\n",
        "      self.newcolor=\"зеленый\"                    #меняет цвет, если мебель старая                 \n",
        "      print(self.newcolor)\n",
        "    else:\n",
        "      print(color)                               #в ином случае оставляет начальный цвет объекта\n",
        "  \n",
        "t_room1=Kitchen(2, 1, 0.5)\n",
        "t_room1.outing()\n",
        "t_room1.howplaces(5)\n",
        "t_room1.outplaces()\n",
        "\n",
        "t_2=Table(1, 3, 0.7)\n",
        "t_2.outing()\n",
        "\n",
        "t_3=Lounge(4, 3, 5)\n",
        "t_3.outing()\n",
        "t_3.function(\"дерево\")\n",
        "t_3.change_color(\"потрепанный\", \"черный\")"
      ],
      "execution_count": 119,
      "outputs": [
        {
          "output_type": "stream",
          "text": [
            "2 1 0.5\n",
            "5\n",
            "1 3 0.7\n",
            "4 3 5\n",
            "Украсить стол вазой\n",
            "зеленый\n"
          ],
          "name": "stdout"
        }
      ]
    },
    {
      "cell_type": "markdown",
      "metadata": {
        "id": "iRu1wt_JyVxl"
      },
      "source": [
        "# Практическая работа"
      ]
    },
    {
      "cell_type": "code",
      "metadata": {
        "id": "wxmfnqMryZ_s"
      },
      "source": [
        "#Создаём 3 класса\n",
        "class Figure:\n",
        "  color=\"white\" #Описываем цвет, харакиерный для всего суперкласса и его подклассов\n",
        "  def changecolor(self, newcolor):\n",
        "    self.color = newcolor\n",
        "    print(self.color)\n",
        "\n",
        "class Oval(Figure):\n",
        "  def __init__(self, size): #Создаём метод для того, чтобы задать объекту данного подкласса атрибут-размер\n",
        "    self.size=size\n",
        "\n",
        "class Square(Figure):\n",
        "  def __init__(self, size): #Создаём метод для того, чтобы задать объекту данного подкласса атрибут-размер\n",
        "    self.size=size\n",
        "#Создаем несколько объектов\n",
        "ob1=Square(\"little\")\n",
        "print()\n",
        "\n",
        "ob2=Oval(\"big\")\n",
        "print()\n",
        "\n",
        "ob3=Figure()\n",
        "print()"
      ],
      "execution_count": null,
      "outputs": []
    }
  ]
}